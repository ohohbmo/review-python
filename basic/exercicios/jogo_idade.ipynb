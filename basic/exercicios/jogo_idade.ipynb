{
 "cells": [
  {
   "cell_type": "code",
   "execution_count": null,
   "metadata": {},
   "outputs": [],
   "source": [
    "import random\n",
    "numero_aleatorio = random.randint(1, 100)\n",
    "chute = 1\n",
    "while chute != numero_aleatorio:\n",
    "    chute = int(input('chute'))\n",
    "    if chute < numero_aleatorio:\n",
    "        print ('é mais veia')\n",
    "    elif chute > numero_aleatorio:\n",
    "        print ('é novinha')\n",
    "    else:\n",
    "        print ('boa krl')"
   ]
  }
 ],
 "metadata": {
  "kernelspec": {
   "display_name": "Python 3",
   "language": "python",
   "name": "python3"
  },
  "language_info": {
   "name": "python",
   "version": "3.12.7"
  }
 },
 "nbformat": 4,
 "nbformat_minor": 2
}
